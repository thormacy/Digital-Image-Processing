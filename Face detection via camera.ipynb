{
 "cells": [
  {
   "cell_type": "code",
   "execution_count": null,
   "metadata": {},
   "outputs": [],
   "source": [
    "import cv2\n",
    "import sys\n",
    "from PIL import Image\n",
    "dir = '/Users/shengwan/opencv/data/haarcascades_cuda/haarcascade_frontalface_alt2.xml'\n",
    "\n",
    "def CatchUsbVideo(window_name, camera_idx):\n",
    "    cv2.namedWindow(window_name)\n",
    "\n",
    "    # import video\n",
    "    cap = cv2.VideoCapture(camera_idx)\n",
    "\n",
    "    # classfier\n",
    "    classfier = cv2.CascadeClassifier(dir)\n",
    "\n",
    "    # frame\n",
    "    color = (0, 255, 0)\n",
    "\n",
    "    while cap.isOpened():\n",
    "        #Read a frame\n",
    "        ok, frame = cap.read()\n",
    "        if not ok:\n",
    "            break\n",
    "\n",
    "        # Change to geryscale\n",
    "        grey = cv2.cvtColor(frame, cv2.COLOR_BGR2GRAY)\n",
    "\n",
    "        # Detect face\n",
    "        faceRects = classfier.detectMultiScale(grey, scaleFactor=1.2, minNeighbors=3, minSize=(32, 32))\n",
    "        # Crop Faces\n",
    "        if len(faceRects) > 0:  \n",
    "            for faceRect in faceRects:  \n",
    "                x, y, w, h = faceRect\n",
    "                cv2.rectangle(frame, (x - 10, y - 10), (x + w + 10, y + h + 10), color, 3) #5控制绿色框的粗细\n",
    "\n",
    "        # display image\n",
    "        cv2.imshow(window_name, frame)\n",
    "        c = cv2.waitKey(10)\n",
    "        if c & 0xFF == ord('q'):\n",
    "            break\n",
    "\n",
    "\n",
    "    cap.release()\n",
    "    cv2.destroyAllWindows()\n",
    "\n",
    "CatchUsbVideo(\"FaceRect\", 0)"
   ]
  }
 ],
 "metadata": {
  "kernelspec": {
   "display_name": "Python 3",
   "language": "python",
   "name": "python3"
  },
  "language_info": {
   "codemirror_mode": {
    "name": "ipython",
    "version": 3
   },
   "file_extension": ".py",
   "mimetype": "text/x-python",
   "name": "python",
   "nbconvert_exporter": "python",
   "pygments_lexer": "ipython3",
   "version": "3.6.2"
  }
 },
 "nbformat": 4,
 "nbformat_minor": 2
}
